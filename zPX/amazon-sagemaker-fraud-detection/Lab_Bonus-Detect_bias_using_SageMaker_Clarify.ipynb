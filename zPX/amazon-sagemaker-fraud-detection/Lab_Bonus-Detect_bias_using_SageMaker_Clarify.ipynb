{
 "cells": [
  {
   "cell_type": "markdown",
   "id": "19b2dcd6-f674-4aca-aa6d-222361c73165",
   "metadata": {},
   "source": [
    "## Bonus Lab - Detect bias using SageMaker Clarify"
   ]
  },
  {
   "cell_type": "markdown",
   "id": "6cbf9009-7471-42c9-b1f5-477053b63639",
   "metadata": {},
   "source": [
    "Amazon SageMaker Clarify provides machine learning developers with greater visibility into their training data and models so they can identify and limit bias and explain predictions. Biases are imbalances in the training data or prediction behavior of the model across different groups, such as age or income bracket. Biases can result from the data or algorithm used to train your model."
   ]
  },
  {
   "cell_type": "markdown",
   "id": "756e5e35-4830-4619-85aa-8004d10dc5fa",
   "metadata": {},
   "source": [
    "In the below section, we would want to run a pretraining bias job to examine our training dataset for bias.\n",
    "\n",
    "We would normally pick sensitive groups which might be prone to bias and run analysis. In our example, we pick customer gender to analyze how it is skewed "
   ]
  },
  {
   "cell_type": "markdown",
   "id": "82ced045-b6c3-42cf-96fb-d07039f7d8a7",
   "metadata": {},
   "source": [
    "## Instructions"
   ]
  },
  {
   "cell_type": "markdown",
   "id": "c24b6d3c-f31c-4722-b70a-263544455161",
   "metadata": {},
   "source": [
    "Start by installing the tools you'll need to detect and address bias"
   ]
  },
  {
   "cell_type": "code",
   "execution_count": 1,
   "id": "eb84a60b-7d6f-409b-bfb9-ed12ecc85bbf",
   "metadata": {},
   "outputs": [
    {
     "name": "stdout",
     "output_type": "stream",
     "text": [
      "Collecting imbalanced-learn==0.7.0\n",
      "  Downloading imbalanced_learn-0.7.0-py3-none-any.whl.metadata (11 kB)\n",
      "Collecting awswrangler\n",
      "  Downloading awswrangler-3.9.1-py3-none-any.whl.metadata (17 kB)\n",
      "Requirement already satisfied: numpy>=1.13.3 in /home/peteryxu/CODE/sagemaker/aws-amazon-sagemaker-examples/.venv/lib/python3.10/site-packages (from imbalanced-learn==0.7.0) (1.26.4)\n",
      "Requirement already satisfied: scipy>=0.19.1 in /home/peteryxu/CODE/sagemaker/aws-amazon-sagemaker-examples/.venv/lib/python3.10/site-packages (from imbalanced-learn==0.7.0) (1.14.1)\n",
      "Requirement already satisfied: scikit-learn>=0.23 in /home/peteryxu/CODE/sagemaker/aws-amazon-sagemaker-examples/.venv/lib/python3.10/site-packages (from imbalanced-learn==0.7.0) (1.5.1)\n",
      "Requirement already satisfied: joblib>=0.11 in /home/peteryxu/CODE/sagemaker/aws-amazon-sagemaker-examples/.venv/lib/python3.10/site-packages (from imbalanced-learn==0.7.0) (1.4.2)\n",
      "Requirement already satisfied: boto3<2.0.0,>=1.20.32 in /home/peteryxu/CODE/sagemaker/aws-amazon-sagemaker-examples/.venv/lib/python3.10/site-packages (from awswrangler) (1.24.62)\n",
      "Requirement already satisfied: botocore<2.0.0,>=1.23.32 in /home/peteryxu/CODE/sagemaker/aws-amazon-sagemaker-examples/.venv/lib/python3.10/site-packages (from awswrangler) (1.27.96)\n",
      "Requirement already satisfied: packaging<25.0,>=21.1 in /home/peteryxu/CODE/sagemaker/aws-amazon-sagemaker-examples/.venv/lib/python3.10/site-packages (from awswrangler) (24.1)\n",
      "Requirement already satisfied: pandas<3.0.0,>=1.2.0 in /home/peteryxu/CODE/sagemaker/aws-amazon-sagemaker-examples/.venv/lib/python3.10/site-packages (from awswrangler) (2.2.2)\n",
      "Collecting pyarrow>=8.0.0 (from awswrangler)\n",
      "  Downloading pyarrow-17.0.0-cp310-cp310-manylinux_2_28_x86_64.whl.metadata (3.3 kB)\n",
      "Requirement already satisfied: typing-extensions<5.0.0,>=4.4.0 in /home/peteryxu/CODE/sagemaker/aws-amazon-sagemaker-examples/.venv/lib/python3.10/site-packages (from awswrangler) (4.12.2)\n",
      "Requirement already satisfied: jmespath<2.0.0,>=0.7.1 in /home/peteryxu/CODE/sagemaker/aws-amazon-sagemaker-examples/.venv/lib/python3.10/site-packages (from boto3<2.0.0,>=1.20.32->awswrangler) (1.0.1)\n",
      "Requirement already satisfied: s3transfer<0.7.0,>=0.6.0 in /home/peteryxu/CODE/sagemaker/aws-amazon-sagemaker-examples/.venv/lib/python3.10/site-packages (from boto3<2.0.0,>=1.20.32->awswrangler) (0.6.2)\n",
      "Requirement already satisfied: python-dateutil<3.0.0,>=2.1 in /home/peteryxu/CODE/sagemaker/aws-amazon-sagemaker-examples/.venv/lib/python3.10/site-packages (from botocore<2.0.0,>=1.23.32->awswrangler) (2.9.0.post0)\n",
      "Requirement already satisfied: urllib3<1.27,>=1.25.4 in /home/peteryxu/CODE/sagemaker/aws-amazon-sagemaker-examples/.venv/lib/python3.10/site-packages (from botocore<2.0.0,>=1.23.32->awswrangler) (1.26.20)\n",
      "Requirement already satisfied: pytz>=2020.1 in /home/peteryxu/CODE/sagemaker/aws-amazon-sagemaker-examples/.venv/lib/python3.10/site-packages (from pandas<3.0.0,>=1.2.0->awswrangler) (2024.1)\n",
      "Requirement already satisfied: tzdata>=2022.7 in /home/peteryxu/CODE/sagemaker/aws-amazon-sagemaker-examples/.venv/lib/python3.10/site-packages (from pandas<3.0.0,>=1.2.0->awswrangler) (2024.1)\n",
      "Requirement already satisfied: threadpoolctl>=3.1.0 in /home/peteryxu/CODE/sagemaker/aws-amazon-sagemaker-examples/.venv/lib/python3.10/site-packages (from scikit-learn>=0.23->imbalanced-learn==0.7.0) (3.5.0)\n",
      "Requirement already satisfied: six>=1.5 in /home/peteryxu/CODE/sagemaker/aws-amazon-sagemaker-examples/.venv/lib/python3.10/site-packages (from python-dateutil<3.0.0,>=2.1->botocore<2.0.0,>=1.23.32->awswrangler) (1.16.0)\n",
      "Downloading imbalanced_learn-0.7.0-py3-none-any.whl (167 kB)\n",
      "Downloading awswrangler-3.9.1-py3-none-any.whl (381 kB)\n",
      "Downloading pyarrow-17.0.0-cp310-cp310-manylinux_2_28_x86_64.whl (39.9 MB)\n",
      "\u001b[2K   \u001b[90m━━━━━━━━━━━━━━━━━━━━━━━━━━━━━━━━━━━━━━━━\u001b[0m \u001b[32m39.9/39.9 MB\u001b[0m \u001b[31m15.4 MB/s\u001b[0m eta \u001b[36m0:00:00\u001b[0ma \u001b[36m0:00:01\u001b[0m\n",
      "\u001b[?25hInstalling collected packages: pyarrow, imbalanced-learn, awswrangler\n",
      "Successfully installed awswrangler-3.9.1 imbalanced-learn-0.7.0 pyarrow-17.0.0\n"
     ]
    }
   ],
   "source": [
    "# cell 1\n",
    "# install the tools we're going to use to detect and deal with bias\n",
    "\n",
    "!pip install -U imbalanced-learn awswrangler"
   ]
  },
  {
   "cell_type": "markdown",
   "id": "dbe03d10-9eeb-4802-9d6c-fe1cbf941f5b",
   "metadata": {},
   "source": [
    "This is a continuation of Lab 1 after the training dataset was created. Since we're picking up the lab after the training dataset was uploaded we're going to use the same few variables that point to the dataset. The following variables are populated with the default values. If you didn't change the bucket name and training dataset name, you don't need to change anything in the cell below."
   ]
  },
  {
   "cell_type": "code",
   "execution_count": 3,
   "id": "9821aea7-113e-4880-8170-441b15f5223c",
   "metadata": {},
   "outputs": [
    {
     "ename": "AttributeError",
     "evalue": "'PickleShareDB' object has no attribute 'keys'",
     "output_type": "error",
     "traceback": [
      "\u001b[0;31m---------------------------------------------------------------------------\u001b[0m",
      "\u001b[0;31mAttributeError\u001b[0m                            Traceback (most recent call last)",
      "Cell \u001b[0;32mIn[3], line 5\u001b[0m\n\u001b[1;32m      1\u001b[0m \u001b[38;5;66;03m# cell 2\u001b[39;00m\n\u001b[1;32m      2\u001b[0m \n\u001b[1;32m      3\u001b[0m \u001b[38;5;66;03m# pull the prefix and bucket variables from storemagic. running the store -r command will give\u001b[39;00m\n\u001b[1;32m      4\u001b[0m \u001b[38;5;66;03m# you access to the bucket and prefix variables\u001b[39;00m\n\u001b[0;32m----> 5\u001b[0m \u001b[43mget_ipython\u001b[49m\u001b[43m(\u001b[49m\u001b[43m)\u001b[49m\u001b[38;5;241;43m.\u001b[39;49m\u001b[43mrun_line_magic\u001b[49m\u001b[43m(\u001b[49m\u001b[38;5;124;43m'\u001b[39;49m\u001b[38;5;124;43mstore\u001b[39;49m\u001b[38;5;124;43m'\u001b[39;49m\u001b[43m,\u001b[49m\u001b[43m \u001b[49m\u001b[38;5;124;43m'\u001b[39;49m\u001b[38;5;124;43m-r\u001b[39;49m\u001b[38;5;124;43m'\u001b[39;49m\u001b[43m)\u001b[49m\n",
      "File \u001b[0;32m~/CODE/sagemaker/aws-amazon-sagemaker-examples/.venv/lib/python3.10/site-packages/IPython/core/interactiveshell.py:2480\u001b[0m, in \u001b[0;36mInteractiveShell.run_line_magic\u001b[0;34m(self, magic_name, line, _stack_depth)\u001b[0m\n\u001b[1;32m   2478\u001b[0m     kwargs[\u001b[38;5;124m'\u001b[39m\u001b[38;5;124mlocal_ns\u001b[39m\u001b[38;5;124m'\u001b[39m] \u001b[38;5;241m=\u001b[39m \u001b[38;5;28mself\u001b[39m\u001b[38;5;241m.\u001b[39mget_local_scope(stack_depth)\n\u001b[1;32m   2479\u001b[0m \u001b[38;5;28;01mwith\u001b[39;00m \u001b[38;5;28mself\u001b[39m\u001b[38;5;241m.\u001b[39mbuiltin_trap:\n\u001b[0;32m-> 2480\u001b[0m     result \u001b[38;5;241m=\u001b[39m \u001b[43mfn\u001b[49m\u001b[43m(\u001b[49m\u001b[38;5;241;43m*\u001b[39;49m\u001b[43margs\u001b[49m\u001b[43m,\u001b[49m\u001b[43m \u001b[49m\u001b[38;5;241;43m*\u001b[39;49m\u001b[38;5;241;43m*\u001b[39;49m\u001b[43mkwargs\u001b[49m\u001b[43m)\u001b[49m\n\u001b[1;32m   2482\u001b[0m \u001b[38;5;66;03m# The code below prevents the output from being displayed\u001b[39;00m\n\u001b[1;32m   2483\u001b[0m \u001b[38;5;66;03m# when using magics with decorator @output_can_be_silenced\u001b[39;00m\n\u001b[1;32m   2484\u001b[0m \u001b[38;5;66;03m# when the last Python token in the expression is a ';'.\u001b[39;00m\n\u001b[1;32m   2485\u001b[0m \u001b[38;5;28;01mif\u001b[39;00m \u001b[38;5;28mgetattr\u001b[39m(fn, magic\u001b[38;5;241m.\u001b[39mMAGIC_OUTPUT_CAN_BE_SILENCED, \u001b[38;5;28;01mFalse\u001b[39;00m):\n",
      "File \u001b[0;32m~/CODE/sagemaker/aws-amazon-sagemaker-examples/.venv/lib/python3.10/site-packages/IPython/extensions/storemagic.py:157\u001b[0m, in \u001b[0;36mStoreMagics.store\u001b[0;34m(self, parameter_s)\u001b[0m\n\u001b[1;32m    155\u001b[0m                 ip\u001b[38;5;241m.\u001b[39muser_ns[arg] \u001b[38;5;241m=\u001b[39m obj\n\u001b[1;32m    156\u001b[0m     \u001b[38;5;28;01melse\u001b[39;00m:\n\u001b[0;32m--> 157\u001b[0m         \u001b[43mrestore_data\u001b[49m\u001b[43m(\u001b[49m\u001b[43mip\u001b[49m\u001b[43m)\u001b[49m\n\u001b[1;32m    159\u001b[0m \u001b[38;5;66;03m# run without arguments -> list variables & values\u001b[39;00m\n\u001b[1;32m    160\u001b[0m \u001b[38;5;28;01melif\u001b[39;00m \u001b[38;5;129;01mnot\u001b[39;00m args:\n",
      "File \u001b[0;32m~/CODE/sagemaker/aws-amazon-sagemaker-examples/.venv/lib/python3.10/site-packages/IPython/extensions/storemagic.py:55\u001b[0m, in \u001b[0;36mrestore_data\u001b[0;34m(ip)\u001b[0m\n\u001b[1;32m     54\u001b[0m \u001b[38;5;28;01mdef\u001b[39;00m \u001b[38;5;21mrestore_data\u001b[39m(ip):\n\u001b[0;32m---> 55\u001b[0m     \u001b[43mrefresh_variables\u001b[49m\u001b[43m(\u001b[49m\u001b[43mip\u001b[49m\u001b[43m)\u001b[49m\n\u001b[1;32m     56\u001b[0m     restore_aliases(ip)\n\u001b[1;32m     57\u001b[0m     restore_dhist(ip)\n",
      "File \u001b[0;32m~/CODE/sagemaker/aws-amazon-sagemaker-examples/.venv/lib/python3.10/site-packages/IPython/extensions/storemagic.py:37\u001b[0m, in \u001b[0;36mrefresh_variables\u001b[0;34m(ip)\u001b[0m\n\u001b[1;32m     35\u001b[0m \u001b[38;5;28;01mdef\u001b[39;00m \u001b[38;5;21mrefresh_variables\u001b[39m(ip):\n\u001b[1;32m     36\u001b[0m     db \u001b[38;5;241m=\u001b[39m ip\u001b[38;5;241m.\u001b[39mdb\n\u001b[0;32m---> 37\u001b[0m     \u001b[38;5;28;01mfor\u001b[39;00m key \u001b[38;5;129;01min\u001b[39;00m \u001b[43mdb\u001b[49m\u001b[38;5;241;43m.\u001b[39;49m\u001b[43mkeys\u001b[49m(\u001b[38;5;124m'\u001b[39m\u001b[38;5;124mautorestore/*\u001b[39m\u001b[38;5;124m'\u001b[39m):\n\u001b[1;32m     38\u001b[0m         \u001b[38;5;66;03m# strip autorestore\u001b[39;00m\n\u001b[1;32m     39\u001b[0m         justkey \u001b[38;5;241m=\u001b[39m os\u001b[38;5;241m.\u001b[39mpath\u001b[38;5;241m.\u001b[39mbasename(key)\n\u001b[1;32m     40\u001b[0m         \u001b[38;5;28;01mtry\u001b[39;00m:\n",
      "\u001b[0;31mAttributeError\u001b[0m: 'PickleShareDB' object has no attribute 'keys'"
     ]
    }
   ],
   "source": [
    "# cell 2\n",
    "\n",
    "# pull the prefix and bucket variables from storemagic. running the store -r command will give\n",
    "# you access to the bucket and prefix variables\n",
    "%store -r"
   ]
  },
  {
   "cell_type": "markdown",
   "id": "67553576-85e0-4d63-b0da-eaa547d8bee3",
   "metadata": {},
   "source": [
    "If you see any error that says unable to retrieve variable sagemaker_session, please ignore it. We're going to create a new sagemaker session in the next few cells"
   ]
  },
  {
   "cell_type": "code",
   "execution_count": 4,
   "id": "ddcbdb02-8bc9-4379-bd7a-983287d70847",
   "metadata": {},
   "outputs": [
    {
     "ename": "NameError",
     "evalue": "name 'bucket' is not defined",
     "output_type": "error",
     "traceback": [
      "\u001b[0;31m---------------------------------------------------------------------------\u001b[0m",
      "\u001b[0;31mNameError\u001b[0m                                 Traceback (most recent call last)",
      "Cell \u001b[0;32mIn[4], line 3\u001b[0m\n\u001b[1;32m      1\u001b[0m \u001b[38;5;66;03m# cell 3\u001b[39;00m\n\u001b[0;32m----> 3\u001b[0m \u001b[38;5;28mprint\u001b[39m(\u001b[38;5;124mf\u001b[39m\u001b[38;5;124m\"\u001b[39m\u001b[38;5;124mBucket is \u001b[39m\u001b[38;5;132;01m{\u001b[39;00m\u001b[43mbucket\u001b[49m\u001b[38;5;132;01m}\u001b[39;00m\u001b[38;5;124m\"\u001b[39m)\n\u001b[1;32m      4\u001b[0m \u001b[38;5;28mprint\u001b[39m(\u001b[38;5;124mf\u001b[39m\u001b[38;5;124m\"\u001b[39m\u001b[38;5;124mPrefix is \u001b[39m\u001b[38;5;132;01m{\u001b[39;00mprefix\u001b[38;5;132;01m}\u001b[39;00m\u001b[38;5;124m\"\u001b[39m)\n",
      "\u001b[0;31mNameError\u001b[0m: name 'bucket' is not defined"
     ]
    }
   ],
   "source": [
    "# cell 3\n",
    "bucket = sagemaker_session.default_bucket()\n",
    "prefix = \"fraud-detect-demo\"\n",
    "\n",
    "print(f\"Bucket is {bucket}\")\n",
    "print(f\"Prefix is {prefix}\")"
   ]
  },
  {
   "cell_type": "code",
   "execution_count": 8,
   "id": "86232923-ce8a-4e2e-b786-493ed536d467",
   "metadata": {},
   "outputs": [
    {
     "ename": "NameError",
     "evalue": "name 'bucket' is not defined",
     "output_type": "error",
     "traceback": [
      "\u001b[0;31m---------------------------------------------------------------------------\u001b[0m",
      "\u001b[0;31mNameError\u001b[0m                                 Traceback (most recent call last)",
      "Cell \u001b[0;32mIn[8], line 3\u001b[0m\n\u001b[1;32m      1\u001b[0m \u001b[38;5;66;03m# cell 4\u001b[39;00m\n\u001b[0;32m----> 3\u001b[0m train_data_uri \u001b[38;5;241m=\u001b[39m \u001b[38;5;124mf\u001b[39m\u001b[38;5;124m\"\u001b[39m\u001b[38;5;124ms3://\u001b[39m\u001b[38;5;132;01m{\u001b[39;00m\u001b[43mbucket\u001b[49m\u001b[38;5;132;01m}\u001b[39;00m\u001b[38;5;124m/\u001b[39m\u001b[38;5;132;01m{\u001b[39;00mprefix\u001b[38;5;132;01m}\u001b[39;00m\u001b[38;5;124m/data/train/train.csv\u001b[39m\u001b[38;5;124m\"\u001b[39m\n",
      "\u001b[0;31mNameError\u001b[0m: name 'bucket' is not defined"
     ]
    }
   ],
   "source": [
    "# cell 4\n",
    "\n",
    "train_data_uri = f\"s3://{bucket}/{prefix}/data/train/train.csv\""
   ]
  },
  {
   "cell_type": "code",
   "execution_count": 9,
   "id": "799cfa9f-7275-4731-9092-e0347e992c17",
   "metadata": {},
   "outputs": [],
   "source": [
    "# cell 5\n",
    "\n",
    "import boto3\n",
    "import sagemaker\n",
    "import json\n",
    "\n",
    "# Reference that session\n",
    "boto_session = boto3.session.Session()\n",
    "region = boto_session.region_name\n",
    "\n",
    "# create a sagemaker client\n",
    "sagemaker_boto_client = boto_session.client(\"sagemaker\")\n",
    "\n",
    "# then link the two\n",
    "sagemaker_session = sagemaker.session.Session(\n",
    "    boto_session=boto_session, sagemaker_client=sagemaker_boto_client\n",
    ")\n",
    "\n",
    "bucket = sagemaker_session.default_bucket()\n",
    "prefix = \"fraud-detect-demo\"\n",
    "train_data_uri = f\"s3://{bucket}/{prefix}/data/train/train.csv\"\n",
    "\n",
    "# create an s3 client\n",
    "s3_client = boto3.client(\"s3\", region_name=region)"
   ]
  },
  {
   "cell_type": "code",
   "execution_count": 10,
   "id": "be2307d8-ee34-4cc0-bce6-54e1eb8e0a8f",
   "metadata": {},
   "outputs": [
    {
     "name": "stderr",
     "output_type": "stream",
     "text": [
      "Couldn't call 'get_role' to get Role ARN from role name peteryxu to get Role path.\n"
     ]
    },
    {
     "name": "stdout",
     "output_type": "stream",
     "text": [
      "\n",
      " instantiating sagemaker_role with supplied role name : arn:aws:iam::975050200450:role/fraud-detection-workshop-SageMakerExecutionRole-4rmzgJyf2wbK\n"
     ]
    }
   ],
   "source": [
    "# cell 6\n",
    "\n",
    "# comment the line below if you want to use a separate role\n",
    "sagemaker_execution_role_name = \"fraud-detection-workshop-SageMakerExecutionRole-4rmzgJyf2wbK\"\n",
    "\n",
    "# Get the default role that was created for this domaim\n",
    "try:\n",
    "    sagemaker_role = sagemaker.get_execution_role()\n",
    "except ValueError:\n",
    "    iam = boto3.client(\"iam\")\n",
    "    sagemaker_role = iam.get_role(RoleName=sagemaker_execution_role_name)[\"Role\"][\"Arn\"]\n",
    "    print(f\"\\n instantiating sagemaker_role with supplied role name : {sagemaker_role}\")\n",
    "\n",
    "# Get temporary access credentials\n",
    "account_id = boto3.client(\"sts\").get_caller_identity()[\"Account\"]"
   ]
  },
  {
   "cell_type": "markdown",
   "id": "c75319c9-137a-4b73-a252-115527dad5b2",
   "metadata": {},
   "source": [
    "First - pull the training data set from our S3 bucket using DataWrangler"
   ]
  },
  {
   "cell_type": "code",
   "execution_count": 11,
   "id": "c88308c2-46a7-4159-98f2-d189aadf3795",
   "metadata": {},
   "outputs": [],
   "source": [
    "# cell 7\n",
    "\n",
    "import awswrangler as wr\n",
    "\n",
    "# features selected for training\n",
    "train_cols = wr.s3.read_csv(train_data_uri).columns.to_list()\n",
    "\n",
    "# our bias report will be saved at this path\n",
    "bias_report_1_output_path = f\"s3://{bucket}/{prefix}/clarify-output/bias_1\""
   ]
  },
  {
   "cell_type": "markdown",
   "id": "6e53103a-a7a1-48c8-96b7-b57a9f2da661",
   "metadata": {},
   "source": [
    "Create the `SageMakerClarifyProcessor` instance to initiate a clarify job"
   ]
  },
  {
   "cell_type": "code",
   "execution_count": 12,
   "id": "c6319ac5-924d-455a-a77f-6b41a7234293",
   "metadata": {},
   "outputs": [],
   "source": [
    "# cell 8\n",
    "\n",
    "clarify_processor = sagemaker.clarify.SageMakerClarifyProcessor(\n",
    "    role=sagemaker_role,\n",
    "    instance_count=1,\n",
    "    instance_type=\"ml.c4.xlarge\",\n",
    "    sagemaker_session=sagemaker_session,\n",
    ")"
   ]
  },
  {
   "cell_type": "markdown",
   "id": "fd0f047c-dfea-483e-a408-a64c1a47adab",
   "metadata": {},
   "source": [
    "Next, configure the input dataset, where to store the output, the label column targeted with a `DataConfig` object."
   ]
  },
  {
   "cell_type": "code",
   "execution_count": 13,
   "id": "e605fb8e-037b-47a7-80db-092c7c238770",
   "metadata": {},
   "outputs": [],
   "source": [
    "# cell 9\n",
    "\n",
    "bias_data_config = sagemaker.clarify.DataConfig(\n",
    "    s3_data_input_path=train_data_uri,\n",
    "    s3_output_path=bias_report_1_output_path,\n",
    "    label=\"fraud\",\n",
    "    headers=train_cols,\n",
    "    dataset_type=\"text/csv\",\n",
    ")"
   ]
  },
  {
   "cell_type": "markdown",
   "id": "6b35b1d8-3b90-41a3-986b-123a4ab9f2a0",
   "metadata": {},
   "source": [
    "Use `BiasConfig` to provide information on which columns contain the facets (sensitive groups, customer_gender_female), what the sensitive features (facet_values_or_threshold) might be, and what the desirable outcomes are (label_values_or_threshold)."
   ]
  },
  {
   "cell_type": "code",
   "execution_count": 14,
   "id": "be834eb0-0dfd-403a-990b-4b034c1d5ade",
   "metadata": {
    "tags": []
   },
   "outputs": [],
   "source": [
    "# cell 10\n",
    "\n",
    "bias_config = sagemaker.clarify.BiasConfig(\n",
    "    label_values_or_threshold=[0],\n",
    "    facet_name=\"customer_gender_female\",\n",
    "    facet_values_or_threshold=[1],\n",
    ")"
   ]
  },
  {
   "cell_type": "markdown",
   "id": "3dfeff59-c75e-4e2d-bdf9-8b98a704ccc5",
   "metadata": {},
   "source": [
    "Now run the clarify job if it hasn't been run already. When it is ran, store the job name and cache the results"
   ]
  },
  {
   "cell_type": "code",
   "execution_count": 16,
   "id": "2e253a52-97ba-48dd-8706-e0b0d4ac6806",
   "metadata": {},
   "outputs": [
    {
     "name": "stdout",
     "output_type": "stream",
     "text": [
      "\n",
      "Job Name:  Clarify-Pretraining-Bias-2024-09-08-04-33-38-420\n",
      "Inputs:  [{'InputName': 'dataset', 'AppManaged': False, 'S3Input': {'S3Uri': 's3://sagemaker-us-east-1-975050200450/fraud-detect-demo/data/train/train.csv', 'LocalPath': '/opt/ml/processing/input/data', 'S3DataType': 'S3Prefix', 'S3InputMode': 'File', 'S3DataDistributionType': 'FullyReplicated', 'S3CompressionType': 'None'}}, {'InputName': 'analysis_config', 'AppManaged': False, 'S3Input': {'S3Uri': 's3://sagemaker-us-east-1-975050200450/fraud-detect-demo/clarify-output/bias_1/analysis_config.json', 'LocalPath': '/opt/ml/processing/input/config', 'S3DataType': 'S3Prefix', 'S3InputMode': 'File', 'S3DataDistributionType': 'FullyReplicated', 'S3CompressionType': 'None'}}]\n",
      "Outputs:  [{'OutputName': 'analysis_result', 'AppManaged': False, 'S3Output': {'S3Uri': 's3://sagemaker-us-east-1-975050200450/fraud-detect-demo/clarify-output/bias_1', 'LocalPath': '/opt/ml/processing/output', 'S3UploadMode': 'EndOfJob'}}]\n",
      "..............................sagemaker.config INFO - Not applying SDK defaults from location: /etc/xdg/sagemaker/config.yaml\n",
      "sagemaker.config INFO - Not applying SDK defaults from location: /root/.config/sagemaker/config.yaml\n",
      "WARNING:root:logging.conf not found when configuring logging, using default logging configuration.\n",
      "INFO:sagemaker-clarify-processing:Starting SageMaker Clarify Processing job\n",
      "INFO:analyzer.data_loading.data_loader_util:Analysis config path: /opt/ml/processing/input/config/analysis_config.json\n",
      "INFO:analyzer.data_loading.data_loader_util:Analysis result path: /opt/ml/processing/output\n",
      "INFO:analyzer.data_loading.data_loader_util:This host is algo-1.\n",
      "INFO:analyzer.data_loading.data_loader_util:This host is the leader.\n",
      "INFO:analyzer.data_loading.data_loader_util:Number of hosts in the cluster is 1.\n",
      "INFO:sagemaker-clarify-processing:Running Python / Pandas based analyzer.\n",
      "INFO:analyzer.data_loading.data_loader_factory:Dataset type: text/csv uri: /opt/ml/processing/input/data\n",
      "INFO:sagemaker-clarify-processing:Loading dataset...\n",
      "INFO:sagemaker-clarify-processing:Loaded dataset. Dataset info:\n",
      "<class 'pandas.core.frame.DataFrame'>\n",
      "RangeIndex: 4000 entries, 0 to 3999\n",
      "Data columns (total 45 columns):\n",
      " #   Column                           Non-Null Count  Dtype  \n",
      "---  ------                           --------------  -----  \n",
      " 0   authorities_contacted_police     4000 non-null   int64  \n",
      " 1   injury_claim                     4000 non-null   float64\n",
      " 2   num_vehicles_involved            4000 non-null   int64  \n",
      " 3   incident_type_collision          4000 non-null   int64  \n",
      " 4   policy_liability                 4000 non-null   int64  \n",
      " 5   customer_gender_male             4000 non-null   int64  \n",
      " 6   num_injuries                     4000 non-null   int64  \n",
      " 7   incident_dow                     4000 non-null   int64  \n",
      " 8   collision_type_front             4000 non-null   int64  \n",
      " 9   driver_relationship_self         4000 non-null   int64  \n",
      " 10  authorities_contacted_fire       4000 non-null   int64  \n",
      " 11  incident_day                     4000 non-null   int64  \n",
      " 12  total_claim_amount               4000 non-null   float64\n",
      " 13  incident_month                   4000 non-null   int64  \n",
      " 14  incident_severity                4000 non-null   int64  \n",
      " 15  policy_state_or                  4000 non-null   int64  \n",
      " 16  customer_gender_female           4000 non-null   int64  \n",
      " 17  collision_type_rear              4000 non-null   int64  \n",
      " 18  policy_state_id                  4000 non-null   int64  \n",
      " 19  incident_type_theft              4000 non-null   int64  \n",
      " 20  policy_deductable                4000 non-null   int64  \n",
      " 21  policy_state_az                  4000 non-null   int64  \n",
      " 22  policy_state_ca                  4000 non-null   int64  \n",
      " 23  num_witnesses                    4000 non-null   int64  \n",
      " 24  driver_relationship_spouse       4000 non-null   int64  \n",
      " 25  driver_relationship_na           4000 non-null   int64  \n",
      " 26  policy_state_nv                  4000 non-null   int64  \n",
      " 27  vehicle_claim                    4000 non-null   float64\n",
      " 28  policy_annual_premium            4000 non-null   int64  \n",
      " 29  driver_relationship_other        4000 non-null   int64  \n",
      " 30  incident_hour                    4000 non-null   int64  \n",
      " 31  collision_type_na                4000 non-null   int64  \n",
      " 32  driver_relationship_child        4000 non-null   int64  \n",
      " 33  num_claims_past_year             4000 non-null   int64  \n",
      " 34  months_as_customer               4000 non-null   int64  \n",
      " 35  police_report_available          4000 non-null   int64  \n",
      " 36  authorities_contacted_ambulance  4000 non-null   int64  \n",
      " 37  customer_education               4000 non-null   int64  \n",
      " 38  customer_age                     4000 non-null   int64  \n",
      " 39  incident_type_breakin            4000 non-null   int64  \n",
      " 40  auto_year                        4000 non-null   int64  \n",
      " 41  authorities_contacted_none       4000 non-null   int64  \n",
      " 42  num_insurers_past_5_years        4000 non-null   int64  \n",
      " 43  collision_type_side              4000 non-null   int64  \n",
      " 44  policy_state_wa                  4000 non-null   int64  \n",
      "dtypes: float64(3), int64(42)\n",
      "memory usage: 1.4 MB\n",
      "INFO:sagemaker-clarify-processing:Calculated global analysis with predictor\n",
      "INFO:sagemaker-clarify-processing:=====================================\n",
      "INFO:sagemaker-clarify-processing:Calculating pre-training bias metrics\n",
      "INFO:sagemaker-clarify-processing:=====================================\n",
      "INFO:smclarify.bias.metrics.common:Column fraud with data uniqueness fraction 0.0005 is classifed as a CATEGORICAL column\n",
      "INFO:smclarify.bias.metrics.common:Column customer_gender_female with data uniqueness fraction 0.0005 is classifed as a CATEGORICAL column\n",
      "INFO:smclarify.bias.metrics.common:Column fraud with data uniqueness fraction 0.0005 is classifed as a CATEGORICAL column\n",
      "ERROR:smclarify.bias.report:CDDL metrics failed\n",
      "Traceback (most recent call last):\n",
      "  File \"/usr/local/lib/python3.9/site-packages/smclarify/bias/report.py\", line 322, in _categorical_metric_call_wrapper\n",
      "    metric_value = smclarify.bias.metrics.call_metric(\n",
      "  File \"/usr/local/lib/python3.9/site-packages/smclarify/bias/metrics/__init__.py\", line 27, in call_metric\n",
      "    return metric(**{key: kwargs[key] for key in inspect.signature(metric).parameters.keys()})\n",
      "  File \"/usr/local/lib/python3.9/site-packages/smclarify/bias/metrics/pretraining.py\", line 194, in CDDL\n",
      "    return common.CDD(feature, sensitive_facet_index, positive_label_index, group_variable)\n",
      "  File \"/usr/local/lib/python3.9/site-packages/smclarify/bias/metrics/common.py\", line 99, in CDD\n",
      "    raise ValueError(\"Group variable is empty or not provided\")\n",
      "ValueError: Group variable is empty or not provided\n",
      "INFO:sagemaker-clarify-processing:======================================\n",
      "INFO:sagemaker-clarify-processing:Calculating bias statistics for report\n",
      "INFO:sagemaker-clarify-processing:======================================\n",
      "INFO:smclarify.bias.metrics.common:Column fraud with data uniqueness fraction 0.0005 is classifed as a CATEGORICAL column\n",
      "INFO:smclarify.bias.metrics.common:Column customer_gender_female with data uniqueness fraction 0.0005 is classifed as a CATEGORICAL column\n",
      "INFO:smclarify.bias.metrics.common:Column fraud with data uniqueness fraction 0.0005 is classifed as a CATEGORICAL column\n",
      "INFO:smclarify.bias.metrics.common:Column fraud with data uniqueness fraction 0.0005 is classifed as a CATEGORICAL column\n",
      "ERROR:analyzer.bias.bias_stats_analyzer:Model performance computations failed.\n",
      "Traceback (most recent call last):\n",
      "  File \"/usr/local/lib/python3.9/site-packages/analyzer/bias/bias_stats_analyzer.py\", line 118, in generate_model_performance_report\n",
      "    metrics_result: Dict[str, Any] = bias.model_performance_report(\n",
      "  File \"/usr/local/lib/python3.9/site-packages/smclarify/bias/report.py\", line 441, in model_performance_report\n",
      "    predicted_label_column.series, positive_label_values\n",
      "AttributeError: 'NoneType' object has no attribute 'series'\n",
      "INFO:analyzer.utils.spark_util:Converting Pandas DataFrame to SparkDataFrame for computing report metadata\n",
      "Setting default log level to \"WARN\".\n",
      "To adjust logging level use sc.setLogLevel(newLevel). For SparkR, use setLogLevel(newLevel).\n",
      "24/09/08 04:38:10 WARN NativeCodeLoader: Unable to load native-hadoop library for your platform... using builtin-java classes where applicable\n",
      "24/09/08 04:38:15 WARN package: Truncated the string representation of a plan since it was too large. This behavior can be adjusted by setting 'spark.sql.debug.maxToStringFields'.\n",
      "#015[Stage 0:>                                                          (0 + 4) / 4]#015#015                                                                                #015INFO:analyzer.utils.spark_util:Report Metadata: Could not find predicted_label in Dataframe\n",
      "INFO:sagemaker-clarify-processing:Calculated global analysis without predictor\n",
      "INFO:sagemaker-clarify-processing:Collected analyses: \n",
      "{'version': '1.0', 'pre_training_bias_metrics': {'label': 'fraud', 'facets': {'customer_gender_female': [{'value_or_threshold': '1', 'metrics': [{'name': 'CDDL', 'description': 'Conditional Demographic Disparity in Labels (CDDL)', 'value': None, 'error': 'Group variable is empty or not provided'}, {'name': 'CI', 'description': 'Class Imbalance (CI)', 'value': 0.408}, {'name': 'DPL', 'description': 'Difference in Positive Proportions in Labels (DPL)', 'value': -0.01831234643734647}, {'name': 'JS', 'description': 'Jensen-Shannon Divergence (JS)', 'value': 0.001873604519256008}, {'name': 'KL', 'description': 'Kullback-Liebler Divergence (KL)', 'value': 0.00871905154975906}, {'name': 'KS', 'description': 'Kolmogorov-Smirnov Distance (KS)', 'value': 0.01831234643734647}, {'name': 'LP', 'description': 'L-p Norm (LP)', 'value': 0.025897568690569986}, {'name': 'TVD', 'description': 'Total Variation Distance (TVD)', 'value': 0.018312346437346454}]}]}, 'label_value_or_threshold': '0'}}\n",
      "INFO:analyzer.utils.util:['jupyter', 'nbconvert', '--to', 'html', '--output', '/opt/ml/processing/output/report.html', '/opt/ml/processing/output/report.ipynb', '--template', 'sagemaker-xai']\n",
      "[NbConvertApp] Converting notebook /opt/ml/processing/output/report.ipynb to html\n",
      "[NbConvertApp] Writing 525013 bytes to /opt/ml/processing/output/report.html\n",
      "INFO:analyzer.utils.util:['wkhtmltopdf', '-q', '--enable-local-file-access', '/opt/ml/processing/output/report.html', '/opt/ml/processing/output/report.pdf']\n",
      "INFO:analyzer.utils.system_util:exit_message: Completed: SageMaker XAI Analyzer ran successfully\n",
      "INFO:py4j.clientserver:Closing down clientserver connection\n",
      "\n",
      "Stored 'clarify_bias_job_1_name' (str)\n"
     ]
    },
    {
     "name": "stderr",
     "output_type": "stream",
     "text": [
      "/home/peteryxu/CODE/sagemaker/aws-amazon-sagemaker-examples/.venv/lib/python3.10/site-packages/IPython/extensions/storemagic.py:229: UserWarning: This is now an optional IPython functionality, setting autorestore/clarify_bias_job_1_name requires you to install the `pickleshare` library.\n",
      "  db[ 'autorestore/' + arg ] = obj\n"
     ]
    }
   ],
   "source": [
    "# cell 11\n",
    "\n",
    "if 'clarify_bias_job_1_name' not in locals():\n",
    "\n",
    "    clarify_processor.run_pre_training_bias(\n",
    "        data_config=bias_data_config,\n",
    "        data_bias_config=bias_config)\n",
    "\n",
    "    clarify_bias_job_1_name = clarify_processor.latest_job.name\n",
    "    %store clarify_bias_job_1_name\n",
    "\n",
    "else:\n",
    "    print(f'Clarify job {clarify_bias_job_1_name} has already run successfully.')"
   ]
  },
  {
   "cell_type": "markdown",
   "id": "8a7a356d-c9c5-4e25-b5bc-2a22f4aa802c",
   "metadata": {},
   "source": [
    "## Result analysis\n",
    "\n",
    "You can verify the class imbalance that Clarify reports on our training dataset. We have pre run the bias detection and use the output json below to print the class imbalance.  A classification data set with skewed class proportions is said to be imbalanced. Classes that make up a large proportion of the data set are called majority classes. Those that make up a smaller proportion are minority classes. This is problematic because the training model will spend most of its time on majority examples and not learn enough from minority ones. \n",
    "\n",
    "In this case `female` is a minority class and under represented in our dataset which might impact our model prediction."
   ]
  },
  {
   "cell_type": "code",
   "execution_count": 17,
   "id": "f8da4c35-48fd-4e02-8a81-184c356f29ed",
   "metadata": {},
   "outputs": [
    {
     "name": "stdout",
     "output_type": "stream",
     "text": [
      "Downloaded analysis from previous Clarify job: Clarify-Pretraining-Bias-2024-09-08-04-33-38-420\n",
      "{\n",
      "    \"name\": \"CI\",\n",
      "    \"description\": \"Class Imbalance (CI)\",\n",
      "    \"value\": 0.408\n",
      "}\n"
     ]
    }
   ],
   "source": [
    "# cell 12\n",
    "\n",
    "if \"clarify_bias_job_1_name\" in locals():\n",
    "    s3_client.download_file(\n",
    "        Bucket=bucket,\n",
    "        Key=f\"{prefix}/clarify-output/bias_1/analysis.json\",\n",
    "        Filename=\"outputs/bias_1_analysis.json\",\n",
    "    )\n",
    "    print(f\"Downloaded analysis from previous Clarify job: {clarify_bias_job_1_name}\")\n",
    "else:\n",
    "    print(f\"Loading pre-generated analysis file...\")\n",
    "\n",
    "with open(\"./outputs/bias_1_analysis.json\", \"r\") as f:\n",
    "    bias_analysis = json.load(f)\n",
    "\n",
    "results = bias_analysis[\"pre_training_bias_metrics\"][\"facets\"][\"customer_gender_female\"][0][\n",
    "    \"metrics\"\n",
    "][1]\n",
    "print(json.dumps(results, indent=4))"
   ]
  },
  {
   "cell_type": "markdown",
   "id": "7c6bf7c0-d553-4d50-aa91-faa01a6e7445",
   "metadata": {},
   "source": [
    "## Fix the imbalance/bias\n",
    "To fix class imbalance, we use a popular technique called SMOTE (Synthetic Minority Oversampling Technique) which basically oversamples the minority class meaining duplicating the minority class synthetically in your training dataset to balance the skew for customer gender. "
   ]
  },
  {
   "cell_type": "code",
   "execution_count": 19,
   "id": "564f9668-256c-446b-8fc9-cc746363e34a",
   "metadata": {},
   "outputs": [
    {
     "data": {
      "text/plain": [
       "customer_gender_female\n",
       "0    2816\n",
       "1    1184\n",
       "Name: count, dtype: int64"
      ]
     },
     "execution_count": 19,
     "metadata": {},
     "output_type": "execute_result"
    }
   ],
   "source": [
    "# cell 13\n",
    "\n",
    "import pandas as pd\n",
    "from imblearn.over_sampling import SMOTE\n",
    "\n",
    "train = pd.read_csv(\"./data/train.csv\")\n",
    "gender = train[\"customer_gender_female\"]\n",
    "gender.value_counts()"
   ]
  },
  {
   "cell_type": "code",
   "execution_count": 20,
   "id": "49a7fa14-f7d3-4f33-b14c-0549837c6560",
   "metadata": {},
   "outputs": [
    {
     "data": {
      "text/plain": [
       "customer_gender_female\n",
       "0    2816\n",
       "1    2816\n",
       "Name: count, dtype: int64"
      ]
     },
     "execution_count": 20,
     "metadata": {},
     "output_type": "execute_result"
    }
   ],
   "source": [
    "# cell 14\n",
    "\n",
    "sm = SMOTE(random_state=42)\n",
    "train_data_upsampled, gender_res = sm.fit_resample(train, gender)\n",
    "train_data_upsampled[\"customer_gender_female\"].value_counts()"
   ]
  },
  {
   "cell_type": "markdown",
   "id": "5f5732c2-5259-4e32-aaca-a082f6f041d4",
   "metadata": {},
   "source": [
    "Now you can see that we are able to effectively duplicate the female values. Now let's get the file loaded to s3 to run Clarify again"
   ]
  },
  {
   "cell_type": "code",
   "execution_count": 21,
   "id": "7edabfcf-0011-44ce-af1e-63bfe8ad8c64",
   "metadata": {},
   "outputs": [],
   "source": [
    "# cell 15\n",
    "\n",
    "train_data_upsampled.to_csv(\"./data/upsampled_train.csv\", index=False)\n",
    "train_data_upsampled_s3_path = f\"s3://{bucket}/{prefix}/data/train/upsampled/train.csv\"\n",
    "\n",
    "s3_client.upload_file(\n",
    "    Filename=\"./data/upsampled_train.csv\",\n",
    "    Bucket=bucket,\n",
    "    Key=f\"{prefix}/data/train/upsampled/train.csv\",\n",
    ")"
   ]
  },
  {
   "cell_type": "markdown",
   "id": "bcc51786-868d-44c4-b249-5e31e308184f",
   "metadata": {},
   "source": [
    "## Re-run and see the new bias results\n",
    "\n",
    "Let's re-run the previous few steps to get the new bias values"
   ]
  },
  {
   "cell_type": "code",
   "execution_count": 22,
   "id": "7e9d2873-ee7f-4dd0-a0c8-8a6724c6e4f7",
   "metadata": {},
   "outputs": [],
   "source": [
    "# cell 16\n",
    "\n",
    "train_cols = wr.s3.read_csv(train_data_upsampled_s3_path).columns.to_list()\n",
    "bias_report_2_output_path = f\"s3://{bucket}/{prefix}/clarify-output/bias_2\"\n",
    "\n",
    "clarify_processor = sagemaker.clarify.SageMakerClarifyProcessor(\n",
    "    role=sagemaker_role,\n",
    "    instance_count=1,\n",
    "    instance_type=\"ml.c4.xlarge\",\n",
    "    sagemaker_session=sagemaker_session,\n",
    ")\n",
    "\n",
    "bias_data_config = sagemaker.clarify.DataConfig(\n",
    "    s3_data_input_path=train_data_upsampled_s3_path,\n",
    "    s3_output_path=bias_report_2_output_path,\n",
    "    label=\"fraud\",\n",
    "    headers=train_cols,\n",
    "    dataset_type=\"text/csv\",\n",
    ")\n",
    "\n",
    "bias_config = sagemaker.clarify.BiasConfig(\n",
    "    label_values_or_threshold=[0],\n",
    "    facet_name=\"customer_gender_female\",\n",
    "    facet_values_or_threshold=[1],\n",
    ")"
   ]
  },
  {
   "cell_type": "code",
   "execution_count": 23,
   "id": "e2ac72e3-7fea-4dcf-a4f2-997246e098ba",
   "metadata": {},
   "outputs": [
    {
     "name": "stdout",
     "output_type": "stream",
     "text": [
      "\n",
      "Job Name:  Clarify-Pretraining-Bias-2024-09-08-04-54-40-853\n",
      "Inputs:  [{'InputName': 'dataset', 'AppManaged': False, 'S3Input': {'S3Uri': 's3://sagemaker-us-east-1-975050200450/fraud-detect-demo/data/train/upsampled/train.csv', 'LocalPath': '/opt/ml/processing/input/data', 'S3DataType': 'S3Prefix', 'S3InputMode': 'File', 'S3DataDistributionType': 'FullyReplicated', 'S3CompressionType': 'None'}}, {'InputName': 'analysis_config', 'AppManaged': False, 'S3Input': {'S3Uri': 's3://sagemaker-us-east-1-975050200450/fraud-detect-demo/clarify-output/bias_2/analysis_config.json', 'LocalPath': '/opt/ml/processing/input/config', 'S3DataType': 'S3Prefix', 'S3InputMode': 'File', 'S3DataDistributionType': 'FullyReplicated', 'S3CompressionType': 'None'}}]\n",
      "Outputs:  [{'OutputName': 'analysis_result', 'AppManaged': False, 'S3Output': {'S3Uri': 's3://sagemaker-us-east-1-975050200450/fraud-detect-demo/clarify-output/bias_2', 'LocalPath': '/opt/ml/processing/output', 'S3UploadMode': 'EndOfJob'}}]\n",
      "..............................sagemaker.config INFO - Not applying SDK defaults from location: /etc/xdg/sagemaker/config.yaml\n",
      "sagemaker.config INFO - Not applying SDK defaults from location: /root/.config/sagemaker/config.yaml\n",
      "WARNING:root:logging.conf not found when configuring logging, using default logging configuration.\n",
      "INFO:sagemaker-clarify-processing:Starting SageMaker Clarify Processing job\n",
      "INFO:analyzer.data_loading.data_loader_util:Analysis config path: /opt/ml/processing/input/config/analysis_config.json\n",
      "INFO:analyzer.data_loading.data_loader_util:Analysis result path: /opt/ml/processing/output\n",
      "INFO:analyzer.data_loading.data_loader_util:This host is algo-1.\n",
      "INFO:analyzer.data_loading.data_loader_util:This host is the leader.\n",
      "INFO:analyzer.data_loading.data_loader_util:Number of hosts in the cluster is 1.\n",
      "INFO:sagemaker-clarify-processing:Running Python / Pandas based analyzer.\n",
      "INFO:analyzer.data_loading.data_loader_factory:Dataset type: text/csv uri: /opt/ml/processing/input/data\n",
      "INFO:sagemaker-clarify-processing:Loading dataset...\n",
      "INFO:sagemaker-clarify-processing:Loaded dataset. Dataset info:\n",
      "<class 'pandas.core.frame.DataFrame'>\n",
      "RangeIndex: 5632 entries, 0 to 5631\n",
      "Data columns (total 45 columns):\n",
      " #   Column                           Non-Null Count  Dtype  \n",
      "---  ------                           --------------  -----  \n",
      " 0   authorities_contacted_police     5632 non-null   int64  \n",
      " 1   injury_claim                     5632 non-null   float64\n",
      " 2   num_vehicles_involved            5632 non-null   int64  \n",
      " 3   incident_type_collision          5632 non-null   int64  \n",
      " 4   policy_liability                 5632 non-null   int64  \n",
      " 5   customer_gender_male             5632 non-null   int64  \n",
      " 6   num_injuries                     5632 non-null   int64  \n",
      " 7   incident_dow                     5632 non-null   int64  \n",
      " 8   collision_type_front             5632 non-null   int64  \n",
      " 9   driver_relationship_self         5632 non-null   int64  \n",
      " 10  authorities_contacted_fire       5632 non-null   int64  \n",
      " 11  incident_day                     5632 non-null   int64  \n",
      " 12  total_claim_amount               5632 non-null   float64\n",
      " 13  incident_month                   5632 non-null   int64  \n",
      " 14  incident_severity                5632 non-null   int64  \n",
      " 15  policy_state_or                  5632 non-null   int64  \n",
      " 16  customer_gender_female           5632 non-null   int64  \n",
      " 17  collision_type_rear              5632 non-null   int64  \n",
      " 18  policy_state_id                  5632 non-null   int64  \n",
      " 19  incident_type_theft              5632 non-null   int64  \n",
      " 20  policy_deductable                5632 non-null   int64  \n",
      " 21  policy_state_az                  5632 non-null   int64  \n",
      " 22  policy_state_ca                  5632 non-null   int64  \n",
      " 23  num_witnesses                    5632 non-null   int64  \n",
      " 24  driver_relationship_spouse       5632 non-null   int64  \n",
      " 25  driver_relationship_na           5632 non-null   int64  \n",
      " 26  policy_state_nv                  5632 non-null   int64  \n",
      " 27  vehicle_claim                    5632 non-null   float64\n",
      " 28  policy_annual_premium            5632 non-null   int64  \n",
      " 29  driver_relationship_other        5632 non-null   int64  \n",
      " 30  incident_hour                    5632 non-null   int64  \n",
      " 31  collision_type_na                5632 non-null   int64  \n",
      " 32  driver_relationship_child        5632 non-null   int64  \n",
      " 33  num_claims_past_year             5632 non-null   int64  \n",
      " 34  months_as_customer               5632 non-null   int64  \n",
      " 35  police_report_available          5632 non-null   int64  \n",
      " 36  authorities_contacted_ambulance  5632 non-null   int64  \n",
      " 37  customer_education               5632 non-null   int64  \n",
      " 38  customer_age                     5632 non-null   int64  \n",
      " 39  incident_type_breakin            5632 non-null   int64  \n",
      " 40  auto_year                        5632 non-null   int64  \n",
      " 41  authorities_contacted_none       5632 non-null   int64  \n",
      " 42  num_insurers_past_5_years        5632 non-null   int64  \n",
      " 43  collision_type_side              5632 non-null   int64  \n",
      " 44  policy_state_wa                  5632 non-null   int64  \n",
      "dtypes: float64(3), int64(42)\n",
      "memory usage: 1.9 MB\n",
      "INFO:sagemaker-clarify-processing:Calculated global analysis with predictor\n",
      "INFO:sagemaker-clarify-processing:=====================================\n",
      "INFO:sagemaker-clarify-processing:Calculating pre-training bias metrics\n",
      "INFO:sagemaker-clarify-processing:=====================================\n",
      "INFO:smclarify.bias.metrics.common:Column fraud with data uniqueness fraction 0.0003551136363636364 is classifed as a CATEGORICAL column\n",
      "INFO:smclarify.bias.metrics.common:Column customer_gender_female with data uniqueness fraction 0.0003551136363636364 is classifed as a CATEGORICAL column\n",
      "INFO:smclarify.bias.metrics.common:Column fraud with data uniqueness fraction 0.0003551136363636364 is classifed as a CATEGORICAL column\n",
      "ERROR:smclarify.bias.report:CDDL metrics failed\n",
      "Traceback (most recent call last):\n",
      "  File \"/usr/local/lib/python3.9/site-packages/smclarify/bias/report.py\", line 322, in _categorical_metric_call_wrapper\n",
      "    metric_value = smclarify.bias.metrics.call_metric(\n",
      "  File \"/usr/local/lib/python3.9/site-packages/smclarify/bias/metrics/__init__.py\", line 27, in call_metric\n",
      "    return metric(**{key: kwargs[key] for key in inspect.signature(metric).parameters.keys()})\n",
      "  File \"/usr/local/lib/python3.9/site-packages/smclarify/bias/metrics/pretraining.py\", line 194, in CDDL\n",
      "    return common.CDD(feature, sensitive_facet_index, positive_label_index, group_variable)\n",
      "  File \"/usr/local/lib/python3.9/site-packages/smclarify/bias/metrics/common.py\", line 99, in CDD\n",
      "    raise ValueError(\"Group variable is empty or not provided\")\n",
      "ValueError: Group variable is empty or not provided\n",
      "INFO:sagemaker-clarify-processing:======================================\n",
      "INFO:sagemaker-clarify-processing:Calculating bias statistics for report\n",
      "INFO:sagemaker-clarify-processing:======================================\n",
      "INFO:smclarify.bias.metrics.common:Column fraud with data uniqueness fraction 0.0003551136363636364 is classifed as a CATEGORICAL column\n",
      "INFO:smclarify.bias.metrics.common:Column customer_gender_female with data uniqueness fraction 0.0003551136363636364 is classifed as a CATEGORICAL column\n",
      "INFO:smclarify.bias.metrics.common:Column fraud with data uniqueness fraction 0.0003551136363636364 is classifed as a CATEGORICAL column\n",
      "INFO:smclarify.bias.metrics.common:Column fraud with data uniqueness fraction 0.0003551136363636364 is classifed as a CATEGORICAL column\n",
      "ERROR:analyzer.bias.bias_stats_analyzer:Model performance computations failed.\n",
      "Traceback (most recent call last):\n",
      "  File \"/usr/local/lib/python3.9/site-packages/analyzer/bias/bias_stats_analyzer.py\", line 118, in generate_model_performance_report\n",
      "    metrics_result: Dict[str, Any] = bias.model_performance_report(\n",
      "  File \"/usr/local/lib/python3.9/site-packages/smclarify/bias/report.py\", line 441, in model_performance_report\n",
      "    predicted_label_column.series, positive_label_values\n",
      "AttributeError: 'NoneType' object has no attribute 'series'\n",
      "INFO:analyzer.utils.spark_util:Converting Pandas DataFrame to SparkDataFrame for computing report metadata\n",
      "Setting default log level to \"WARN\".\n",
      "To adjust logging level use sc.setLogLevel(newLevel). For SparkR, use setLogLevel(newLevel).\n",
      "24/09/08 04:59:13 WARN NativeCodeLoader: Unable to load native-hadoop library for your platform... using builtin-java classes where applicable\n",
      "24/09/08 04:59:19 WARN package: Truncated the string representation of a plan since it was too large. This behavior can be adjusted by setting 'spark.sql.debug.maxToStringFields'.\n",
      "#015[Stage 0:>                                                          (0 + 4) / 4]#015#015                                                                                #015INFO:analyzer.utils.spark_util:Report Metadata: Could not find predicted_label in Dataframe\n",
      "INFO:sagemaker-clarify-processing:Calculated global analysis without predictor\n",
      "INFO:sagemaker-clarify-processing:Collected analyses: \n",
      "{'version': '1.0', 'pre_training_bias_metrics': {'label': 'fraud', 'facets': {'customer_gender_female': [{'value_or_threshold': '1', 'metrics': [{'name': 'CDDL', 'description': 'Conditional Demographic Disparity in Labels (CDDL)', 'value': None, 'error': 'Group variable is empty or not provided'}, {'name': 'CI', 'description': 'Class Imbalance (CI)', 'value': 0.0}, {'name': 'DPL', 'description': 'Difference in Positive Proportions in Labels (DPL)', 'value': -0.026633522727272818}, {'name': 'JS', 'description': 'Jensen-Shannon Divergence (JS)', 'value': 0.005126873085840146}, {'name': 'KL', 'description': 'Kullback-Liebler Divergence (KL)', 'value': 0.028893054558628475}, {'name': 'KS', 'description': 'Kolmogorov-Smirnov Distance (KS)', 'value': 0.026633522727272818}, {'name': 'LP', 'description': 'L-p Norm (LP)', 'value': 0.03766548905468122}, {'name': 'TVD', 'description': 'Total Variation Distance (TVD)', 'value': 0.026633522727272773}]}]}, 'label_value_or_threshold': '0'}}\n",
      "INFO:analyzer.utils.util:['jupyter', 'nbconvert', '--to', 'html', '--output', '/opt/ml/processing/output/report.html', '/opt/ml/processing/output/report.ipynb', '--template', 'sagemaker-xai']\n",
      "[NbConvertApp] Converting notebook /opt/ml/processing/output/report.ipynb to html\n",
      "[NbConvertApp] Writing 520021 bytes to /opt/ml/processing/output/report.html\n",
      "INFO:analyzer.utils.util:['wkhtmltopdf', '-q', '--enable-local-file-access', '/opt/ml/processing/output/report.html', '/opt/ml/processing/output/report.pdf']\n",
      "INFO:analyzer.utils.system_util:exit_message: Completed: SageMaker XAI Analyzer ran successfully\n",
      "INFO:py4j.clientserver:Closing down clientserver connection\n",
      "\n",
      "Stored 'clarify_bias_job_2_name' (str)\n"
     ]
    },
    {
     "name": "stderr",
     "output_type": "stream",
     "text": [
      "/home/peteryxu/CODE/sagemaker/aws-amazon-sagemaker-examples/.venv/lib/python3.10/site-packages/IPython/extensions/storemagic.py:229: UserWarning: This is now an optional IPython functionality, setting autorestore/clarify_bias_job_2_name requires you to install the `pickleshare` library.\n",
      "  db[ 'autorestore/' + arg ] = obj\n"
     ]
    }
   ],
   "source": [
    "# cell 17\n",
    "\n",
    "if 'clarify_bias_job_2_name' not in locals():\n",
    "\n",
    "    clarify_processor.run_pre_training_bias(\n",
    "        data_config=bias_data_config,\n",
    "        data_bias_config=bias_config)\n",
    "\n",
    "    clarify_bias_job_2_name = clarify_processor.latest_job.name\n",
    "    %store clarify_bias_job_2_name\n",
    "\n",
    "else:\n",
    "    print(f'Clarify job {clarify_bias_job_2_name} has already run successfully.')"
   ]
  },
  {
   "cell_type": "markdown",
   "id": "aa600568-d6e6-4ecb-92fd-e7bb01edb846",
   "metadata": {},
   "source": [
    "If you run the below cell, you can see that class imbalance is now reduced to zero. This shows that our SMOTE worked and the dataset is not biased for gender anymore.In the next section, we will kick off a training job to train a XGBoost model using this training dataset "
   ]
  },
  {
   "cell_type": "code",
   "execution_count": 24,
   "id": "c9018624-bda5-4043-9c77-4b3b5e2f778b",
   "metadata": {},
   "outputs": [
    {
     "name": "stdout",
     "output_type": "stream",
     "text": [
      "Downloaded analysis from previous Clarify job: Clarify-Pretraining-Bias-2024-09-08-04-54-40-853\n",
      "{\n",
      "    \"name\": \"CI\",\n",
      "    \"description\": \"Class Imbalance (CI)\",\n",
      "    \"value\": 0.0\n",
      "}\n"
     ]
    }
   ],
   "source": [
    "# cell 18\n",
    "\n",
    "if \"clarify_bias_job_2_name\" in locals():\n",
    "    s3_client.download_file(\n",
    "        Bucket=bucket,\n",
    "        Key=f\"{prefix}/clarify-output/bias_2/analysis.json\",\n",
    "        Filename=\"outputs/bias_2_analysis.json\",\n",
    "    )\n",
    "    print(f\"Downloaded analysis from previous Clarify job: {clarify_bias_job_2_name}\")\n",
    "else:\n",
    "    print(f\"Loading pre-generated analysis file...\")\n",
    "\n",
    "with open(\"./outputs/bias_2_analysis.json\", \"r\") as f:\n",
    "    bias_analysis = json.load(f)\n",
    "\n",
    "results = bias_analysis[\"pre_training_bias_metrics\"][\"facets\"][\"customer_gender_female\"][0][\n",
    "    \"metrics\"\n",
    "][1]\n",
    "print(json.dumps(results, indent=4))"
   ]
  },
  {
   "cell_type": "markdown",
   "id": "e2bc4587-75ba-4609-8193-f14dedf1be41",
   "metadata": {},
   "source": [
    "Congratulations! You have finished the bonus lab - Detect Bias using SageMaker Clarify"
   ]
  }
 ],
 "metadata": {
  "instance_type": "ml.t3.medium",
  "kernelspec": {
   "display_name": ".venv",
   "language": "python",
   "name": "python3"
  },
  "language_info": {
   "codemirror_mode": {
    "name": "ipython",
    "version": 3
   },
   "file_extension": ".py",
   "mimetype": "text/x-python",
   "name": "python",
   "nbconvert_exporter": "python",
   "pygments_lexer": "ipython3",
   "version": "3.10.12"
  }
 },
 "nbformat": 4,
 "nbformat_minor": 5
}
